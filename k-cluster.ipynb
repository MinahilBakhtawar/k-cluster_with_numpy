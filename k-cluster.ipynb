{
  "nbformat": 4,
  "nbformat_minor": 0,
  "metadata": {
    "colab": {
      "provenance": []
    },
    "kernelspec": {
      "name": "python3",
      "display_name": "Python 3"
    },
    "language_info": {
      "name": "python"
    }
  },
  "cells": [
    {
      "cell_type": "code",
      "execution_count": null,
      "metadata": {
        "id": "5pcWA9sPQG1K"
      },
      "outputs": [],
      "source": [
        "import numpy as np\n",
        "import matplotlib.pyplot as plt"
      ]
    },
    {
      "cell_type": "code",
      "source": [
        "from sklearn.datasets import load_breast_cancer\n",
        "data = load_breast_cancer()\n",
        "data_points = data.data\n",
        "# data_points = np.array(data)\n",
        "y = data.target\n"
      ],
      "metadata": {
        "id": "6NQ4ZGFLRYwl"
      },
      "execution_count": null,
      "outputs": []
    },
    {
      "cell_type": "code",
      "source": [
        "# Initializing K centroids from data points. We pick random data_points\n",
        "# as the centroids\n",
        "\n",
        "def initialize(k, data_points):\n",
        "  # initializing centroids\n",
        "  m = len(data_points)\n",
        "  n = len(data_points[0])\n",
        "  centroids = data_points[np.random.choice(range(m), k, replace=False)]\n",
        "  return centroids\n"
      ],
      "metadata": {
        "id": "vx-dNp80_crE"
      },
      "execution_count": null,
      "outputs": []
    },
    {
      "cell_type": "code",
      "source": [
        "def find_nearest(x, centroids, k):\n",
        "    # Finding closest centroid for a data point\n",
        "    distances = np.empty(k)\n",
        "    for i in range(k):\n",
        "        distances[i] = np.linalg.norm(centroids[i] - x)\n",
        "    return np.argmin(distances)"
      ],
      "metadata": {
        "id": "Gd2dkhZkvZrh"
      },
      "execution_count": null,
      "outputs": []
    },
    {
      "cell_type": "code",
      "source": [
        "def clustering(centroids, k, data_points):\n",
        "    # cluster number assigned to each data point\n",
        "    n = data_points.shape[0]\n",
        "    cluster_assign = np.empty(n)\n",
        "    for i in range(n):\n",
        "        cluster_assign[i] = find_nearest(data_points[i], centroids, k)\n",
        "    return cluster_assign\n",
        "\n"
      ],
      "metadata": {
        "id": "KcTOzis22EA9"
      },
      "execution_count": null,
      "outputs": []
    },
    {
      "cell_type": "code",
      "source": [
        "def meanfunction(cluster_assign, K, data_points):\n",
        "    m = data_points.shape[1]\n",
        "    centroids = np.empty((K, m))\n",
        "    for i in range(K):\n",
        "        points = data_points[cluster_assign == i] # gather points for the cluster i\n",
        "        centroids[i] = np.mean(points, axis=0) # use axis=0 to compute means across points\n",
        "    return centroids"
      ],
      "metadata": {
        "id": "tAMYphT-4g3T"
      },
      "execution_count": null,
      "outputs": []
    },
    {
      "cell_type": "code",
      "source": [
        "def kmeans(K, data_points, trials = 300):\n",
        "    # initialize random centroids\n",
        "    centroids = initialize(K, data_points)\n",
        "    # loop till max_iterations or convergance\n",
        "    for j in range(trials):\n",
        "        # create clusters and compute mean\n",
        "        clusters = clustering(centroids, K, data_points)\n",
        "        previous = centroids\n",
        "        centroids = meanfunction(clusters, K, data_points)\n",
        "        # break loop if no more change\n",
        "        delta = previous - centroids\n",
        "        if np.all(delta == 0):\n",
        "            return clusters, centroids\n",
        "    return clusters, centroids"
      ],
      "metadata": {
        "id": "Z3KRpr16-m19"
      },
      "execution_count": null,
      "outputs": []
    },
    {
      "cell_type": "code",
      "source": [
        "\n",
        "def calculate_distortion(clusters, centroids, data_points):\n",
        "\n",
        "    k = len(centroids)\n",
        "    distortion = 0\n",
        "\n",
        "    for i in range(k):\n",
        "\n",
        "      # All points in one cluster collected, distance calculated\n",
        "      cluster_points = data_points[clusters == i]\n",
        "      squared_distances = np.sum((cluster_points - centroids[i])**2, axis=1)\n",
        "      distortion += np.sum(squared_distances)\n",
        "\n",
        "    return distortion\n",
        "\n",
        "\n",
        "\n",
        "\n"
      ],
      "metadata": {
        "id": "xcfdvI9YEpc4"
      },
      "execution_count": null,
      "outputs": []
    },
    {
      "cell_type": "code",
      "source": [
        "distortion_array = []\n",
        "for i in range(2,8):\n",
        "  clusters, centroids = kmeans(i, data_points, trials = 500)\n",
        "  distortion = calculate_distortion(clusters, centroids, data_points)\n",
        "  distortion_array.append(distortion)\n"
      ],
      "metadata": {
        "id": "cj2siQdBM2uO"
      },
      "execution_count": null,
      "outputs": []
    },
    {
      "cell_type": "code",
      "source": [
        "distortion_array"
      ],
      "metadata": {
        "colab": {
          "base_uri": "https://localhost:8080/"
        },
        "id": "YXS0tsTQF8tv",
        "outputId": "fc852bc1-99d1-4a4b-e04f-01b0726fcdb4"
      },
      "execution_count": null,
      "outputs": [
        {
          "output_type": "execute_result",
          "data": {
            "text/plain": [
              "[77943099.87829883,\n",
              " 50517769.55928191,\n",
              " 29226541.65197979,\n",
              " 20672701.39435882,\n",
              " 17054794.297389243,\n",
              " 13353341.346502563]"
            ]
          },
          "metadata": {},
          "execution_count": 32
        }
      ]
    },
    {
      "cell_type": "code",
      "source": [
        "# Create x-axis values ranging from 2 to 7\n",
        "x_values = np.arange(2, 8)\n",
        "\n",
        "# Plot the distortion values against the x-axis\n",
        "plt.plot(x_values, distortion_array, marker='o', linestyle='-', color='b')\n",
        "plt.xlabel('Number of Clusters (k)')\n",
        "plt.ylabel('Distortion')\n",
        "plt.title('Distortion vs. Number of Clusters')\n",
        "plt.grid(True)\n",
        "plt.show()"
      ],
      "metadata": {
        "colab": {
          "base_uri": "https://localhost:8080/",
          "height": 472
        },
        "id": "SX8a-_BvG7Za",
        "outputId": "8cafeb7f-3cf6-4799-97f4-35066215a741"
      },
      "execution_count": null,
      "outputs": [
        {
          "output_type": "display_data",
          "data": {
            "text/plain": [
              "<Figure size 640x480 with 1 Axes>"
            ],
            "image/png": "[encoded data removed]"
          },
          "metadata": {}
        }
      ]
    }
  ]
}